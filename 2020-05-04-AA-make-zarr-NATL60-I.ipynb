{
 "cells": [
  {
   "cell_type": "code",
   "execution_count": 10,
   "metadata": {},
   "outputs": [],
   "source": [
    "import warnings\n",
    "warnings.filterwarnings(\"ignore\")\n",
    "import dask \n",
    "import numpy as np\n",
    "import xarray as xr\n",
    "import time\n",
    "import os \n",
    "import time \n",
    "import glob\n",
    "import numcodecs\n",
    "\n",
    "import zarr\n",
    "\n",
    "%matplotlib inline\n"
   ]
  },
  {
   "cell_type": "code",
   "execution_count": 11,
   "metadata": {},
   "outputs": [],
   "source": [
    "ds = xr.open_dataset('/store/CT1/hmg2840/lbrodeau/eNATL60/eNATL60-I/mesh_mask_eNATL60_3.6.nc', chunks={'z':1})\n"
   ]
  },
  {
   "cell_type": "code",
   "execution_count": 12,
   "metadata": {},
   "outputs": [
    {
     "data": {
      "text/html": [
       "<pre>&lt;xarray.Dataset&gt;\n",
       "Dimensions:       (t: 1, x: 8354, y: 4729, z: 300)\n",
       "Dimensions without coordinates: t, x, y, z\n",
       "Data variables:\n",
       "    nav_lon       (y, x) float32 dask.array&lt;chunksize=(4729, 8354), meta=np.ndarray&gt;\n",
       "    nav_lat       (y, x) float32 dask.array&lt;chunksize=(4729, 8354), meta=np.ndarray&gt;\n",
       "    nav_lev       (z) float32 dask.array&lt;chunksize=(1,), meta=np.ndarray&gt;\n",
       "    time_counter  (t) float64 dask.array&lt;chunksize=(1,), meta=np.ndarray&gt;\n",
       "    tmask         (t, z, y, x) int8 dask.array&lt;chunksize=(1, 1, 4729, 8354), meta=np.ndarray&gt;\n",
       "    umask         (t, z, y, x) int8 dask.array&lt;chunksize=(1, 1, 4729, 8354), meta=np.ndarray&gt;\n",
       "    vmask         (t, z, y, x) int8 dask.array&lt;chunksize=(1, 1, 4729, 8354), meta=np.ndarray&gt;\n",
       "    fmask         (t, z, y, x) int8 dask.array&lt;chunksize=(1, 1, 4729, 8354), meta=np.ndarray&gt;\n",
       "    tmaskutil     (t, y, x) int8 dask.array&lt;chunksize=(1, 4729, 8354), meta=np.ndarray&gt;\n",
       "    umaskutil     (t, y, x) int8 dask.array&lt;chunksize=(1, 4729, 8354), meta=np.ndarray&gt;\n",
       "    vmaskutil     (t, y, x) int8 dask.array&lt;chunksize=(1, 4729, 8354), meta=np.ndarray&gt;\n",
       "    fmaskutil     (t, y, x) int8 dask.array&lt;chunksize=(1, 4729, 8354), meta=np.ndarray&gt;\n",
       "    glamt         (t, y, x) float32 dask.array&lt;chunksize=(1, 4729, 8354), meta=np.ndarray&gt;\n",
       "    glamu         (t, y, x) float32 dask.array&lt;chunksize=(1, 4729, 8354), meta=np.ndarray&gt;\n",
       "    glamv         (t, y, x) float32 dask.array&lt;chunksize=(1, 4729, 8354), meta=np.ndarray&gt;\n",
       "    glamf         (t, y, x) float32 dask.array&lt;chunksize=(1, 4729, 8354), meta=np.ndarray&gt;\n",
       "    gphit         (t, y, x) float32 dask.array&lt;chunksize=(1, 4729, 8354), meta=np.ndarray&gt;\n",
       "    gphiu         (t, y, x) float32 dask.array&lt;chunksize=(1, 4729, 8354), meta=np.ndarray&gt;\n",
       "    gphiv         (t, y, x) float32 dask.array&lt;chunksize=(1, 4729, 8354), meta=np.ndarray&gt;\n",
       "    gphif         (t, y, x) float32 dask.array&lt;chunksize=(1, 4729, 8354), meta=np.ndarray&gt;\n",
       "    e1t           (t, y, x) float64 dask.array&lt;chunksize=(1, 4729, 8354), meta=np.ndarray&gt;\n",
       "    e1u           (t, y, x) float64 dask.array&lt;chunksize=(1, 4729, 8354), meta=np.ndarray&gt;\n",
       "    e1v           (t, y, x) float64 dask.array&lt;chunksize=(1, 4729, 8354), meta=np.ndarray&gt;\n",
       "    e1f           (t, y, x) float64 dask.array&lt;chunksize=(1, 4729, 8354), meta=np.ndarray&gt;\n",
       "    e2t           (t, y, x) float64 dask.array&lt;chunksize=(1, 4729, 8354), meta=np.ndarray&gt;\n",
       "    e2u           (t, y, x) float64 dask.array&lt;chunksize=(1, 4729, 8354), meta=np.ndarray&gt;\n",
       "    e2v           (t, y, x) float64 dask.array&lt;chunksize=(1, 4729, 8354), meta=np.ndarray&gt;\n",
       "    e2f           (t, y, x) float64 dask.array&lt;chunksize=(1, 4729, 8354), meta=np.ndarray&gt;\n",
       "    ff            (t, y, x) float64 dask.array&lt;chunksize=(1, 4729, 8354), meta=np.ndarray&gt;\n",
       "    mbathy        (t, y, x) int16 dask.array&lt;chunksize=(1, 4729, 8354), meta=np.ndarray&gt;\n",
       "    misf          (t, y, x) int16 dask.array&lt;chunksize=(1, 4729, 8354), meta=np.ndarray&gt;\n",
       "    isfdraft      (t, y, x) float32 dask.array&lt;chunksize=(1, 4729, 8354), meta=np.ndarray&gt;\n",
       "    e3t_0         (t, z, y, x) float64 dask.array&lt;chunksize=(1, 1, 4729, 8354), meta=np.ndarray&gt;\n",
       "    e3u_0         (t, z, y, x) float64 dask.array&lt;chunksize=(1, 1, 4729, 8354), meta=np.ndarray&gt;\n",
       "    e3v_0         (t, z, y, x) float64 dask.array&lt;chunksize=(1, 1, 4729, 8354), meta=np.ndarray&gt;\n",
       "    e3w_0         (t, z, y, x) float64 dask.array&lt;chunksize=(1, 1, 4729, 8354), meta=np.ndarray&gt;\n",
       "    gdept_0       (t, z, y, x) float32 dask.array&lt;chunksize=(1, 1, 4729, 8354), meta=np.ndarray&gt;\n",
       "    gdepu         (t, z, y, x) float32 dask.array&lt;chunksize=(1, 1, 4729, 8354), meta=np.ndarray&gt;\n",
       "    gdepv         (t, z, y, x) float32 dask.array&lt;chunksize=(1, 1, 4729, 8354), meta=np.ndarray&gt;\n",
       "    gdepw_0       (t, z, y, x) float32 dask.array&lt;chunksize=(1, 1, 4729, 8354), meta=np.ndarray&gt;\n",
       "    gdept_1d      (t, z) float64 dask.array&lt;chunksize=(1, 1), meta=np.ndarray&gt;\n",
       "    gdepw_1d      (t, z) float64 dask.array&lt;chunksize=(1, 1), meta=np.ndarray&gt;\n",
       "    e3t_1d        (t, z) float64 dask.array&lt;chunksize=(1, 1), meta=np.ndarray&gt;\n",
       "    e3w_1d        (t, z) float64 dask.array&lt;chunksize=(1, 1), meta=np.ndarray&gt;\n",
       "Attributes:\n",
       "    file_name:  mesh_mask.nc\n",
       "    TimeStamp:  13/07/2018 22:32:53 +0200</pre>"
      ],
      "text/plain": [
       "<xarray.Dataset>\n",
       "Dimensions:       (t: 1, x: 8354, y: 4729, z: 300)\n",
       "Dimensions without coordinates: t, x, y, z\n",
       "Data variables:\n",
       "    nav_lon       (y, x) float32 dask.array<chunksize=(4729, 8354), meta=np.ndarray>\n",
       "    nav_lat       (y, x) float32 dask.array<chunksize=(4729, 8354), meta=np.ndarray>\n",
       "    nav_lev       (z) float32 dask.array<chunksize=(1,), meta=np.ndarray>\n",
       "    time_counter  (t) float64 dask.array<chunksize=(1,), meta=np.ndarray>\n",
       "    tmask         (t, z, y, x) int8 dask.array<chunksize=(1, 1, 4729, 8354), meta=np.ndarray>\n",
       "    umask         (t, z, y, x) int8 dask.array<chunksize=(1, 1, 4729, 8354), meta=np.ndarray>\n",
       "    vmask         (t, z, y, x) int8 dask.array<chunksize=(1, 1, 4729, 8354), meta=np.ndarray>\n",
       "    fmask         (t, z, y, x) int8 dask.array<chunksize=(1, 1, 4729, 8354), meta=np.ndarray>\n",
       "    tmaskutil     (t, y, x) int8 dask.array<chunksize=(1, 4729, 8354), meta=np.ndarray>\n",
       "    umaskutil     (t, y, x) int8 dask.array<chunksize=(1, 4729, 8354), meta=np.ndarray>\n",
       "    vmaskutil     (t, y, x) int8 dask.array<chunksize=(1, 4729, 8354), meta=np.ndarray>\n",
       "    fmaskutil     (t, y, x) int8 dask.array<chunksize=(1, 4729, 8354), meta=np.ndarray>\n",
       "    glamt         (t, y, x) float32 dask.array<chunksize=(1, 4729, 8354), meta=np.ndarray>\n",
       "    glamu         (t, y, x) float32 dask.array<chunksize=(1, 4729, 8354), meta=np.ndarray>\n",
       "    glamv         (t, y, x) float32 dask.array<chunksize=(1, 4729, 8354), meta=np.ndarray>\n",
       "    glamf         (t, y, x) float32 dask.array<chunksize=(1, 4729, 8354), meta=np.ndarray>\n",
       "    gphit         (t, y, x) float32 dask.array<chunksize=(1, 4729, 8354), meta=np.ndarray>\n",
       "    gphiu         (t, y, x) float32 dask.array<chunksize=(1, 4729, 8354), meta=np.ndarray>\n",
       "    gphiv         (t, y, x) float32 dask.array<chunksize=(1, 4729, 8354), meta=np.ndarray>\n",
       "    gphif         (t, y, x) float32 dask.array<chunksize=(1, 4729, 8354), meta=np.ndarray>\n",
       "    e1t           (t, y, x) float64 dask.array<chunksize=(1, 4729, 8354), meta=np.ndarray>\n",
       "    e1u           (t, y, x) float64 dask.array<chunksize=(1, 4729, 8354), meta=np.ndarray>\n",
       "    e1v           (t, y, x) float64 dask.array<chunksize=(1, 4729, 8354), meta=np.ndarray>\n",
       "    e1f           (t, y, x) float64 dask.array<chunksize=(1, 4729, 8354), meta=np.ndarray>\n",
       "    e2t           (t, y, x) float64 dask.array<chunksize=(1, 4729, 8354), meta=np.ndarray>\n",
       "    e2u           (t, y, x) float64 dask.array<chunksize=(1, 4729, 8354), meta=np.ndarray>\n",
       "    e2v           (t, y, x) float64 dask.array<chunksize=(1, 4729, 8354), meta=np.ndarray>\n",
       "    e2f           (t, y, x) float64 dask.array<chunksize=(1, 4729, 8354), meta=np.ndarray>\n",
       "    ff            (t, y, x) float64 dask.array<chunksize=(1, 4729, 8354), meta=np.ndarray>\n",
       "    mbathy        (t, y, x) int16 dask.array<chunksize=(1, 4729, 8354), meta=np.ndarray>\n",
       "    misf          (t, y, x) int16 dask.array<chunksize=(1, 4729, 8354), meta=np.ndarray>\n",
       "    isfdraft      (t, y, x) float32 dask.array<chunksize=(1, 4729, 8354), meta=np.ndarray>\n",
       "    e3t_0         (t, z, y, x) float64 dask.array<chunksize=(1, 1, 4729, 8354), meta=np.ndarray>\n",
       "    e3u_0         (t, z, y, x) float64 dask.array<chunksize=(1, 1, 4729, 8354), meta=np.ndarray>\n",
       "    e3v_0         (t, z, y, x) float64 dask.array<chunksize=(1, 1, 4729, 8354), meta=np.ndarray>\n",
       "    e3w_0         (t, z, y, x) float64 dask.array<chunksize=(1, 1, 4729, 8354), meta=np.ndarray>\n",
       "    gdept_0       (t, z, y, x) float32 dask.array<chunksize=(1, 1, 4729, 8354), meta=np.ndarray>\n",
       "    gdepu         (t, z, y, x) float32 dask.array<chunksize=(1, 1, 4729, 8354), meta=np.ndarray>\n",
       "    gdepv         (t, z, y, x) float32 dask.array<chunksize=(1, 1, 4729, 8354), meta=np.ndarray>\n",
       "    gdepw_0       (t, z, y, x) float32 dask.array<chunksize=(1, 1, 4729, 8354), meta=np.ndarray>\n",
       "    gdept_1d      (t, z) float64 dask.array<chunksize=(1, 1), meta=np.ndarray>\n",
       "    gdepw_1d      (t, z) float64 dask.array<chunksize=(1, 1), meta=np.ndarray>\n",
       "    e3t_1d        (t, z) float64 dask.array<chunksize=(1, 1), meta=np.ndarray>\n",
       "    e3w_1d        (t, z) float64 dask.array<chunksize=(1, 1), meta=np.ndarray>\n",
       "Attributes:\n",
       "    file_name:  mesh_mask.nc\n",
       "    TimeStamp:  13/07/2018 22:32:53 +0200"
      ]
     },
     "execution_count": 12,
     "metadata": {},
     "output_type": "execute_result"
    }
   ],
   "source": [
    "ds"
   ]
  },
  {
   "cell_type": "code",
   "execution_count": 13,
   "metadata": {},
   "outputs": [],
   "source": [
    "compressor = numcodecs.Blosc(cname='snappy', clevel=6, shuffle=-1)\n",
    "encoding = {vname: {'compressor': compressor} for vname in ds.variables}\n"
   ]
  },
  {
   "cell_type": "code",
   "execution_count": 14,
   "metadata": {},
   "outputs": [
    {
     "data": {
      "text/plain": [
       "<xarray.backends.zarr.ZarrStore at 0x2b88673d6570>"
      ]
     },
     "execution_count": 14,
     "metadata": {},
     "output_type": "execute_result"
    }
   ],
   "source": [
    "outdir = '/store/albert7a/eNATL60/zarr/eNATL60-mesh-mask'\n",
    "ds.to_zarr(outdir, encoding=encoding, mode=\"w\")\n",
    "\n",
    " "
   ]
  },
  {
   "cell_type": "code",
   "execution_count": null,
   "metadata": {},
   "outputs": [],
   "source": []
  }
 ],
 "metadata": {
  "kernelspec": {
   "display_name": "Python 3",
   "language": "python",
   "name": "python3"
  },
  "language_info": {
   "codemirror_mode": {
    "name": "ipython",
    "version": 3
   },
   "file_extension": ".py",
   "mimetype": "text/x-python",
   "name": "python",
   "nbconvert_exporter": "python",
   "pygments_lexer": "ipython3",
   "version": "3.7.3"
  }
 },
 "nbformat": 4,
 "nbformat_minor": 2
}
