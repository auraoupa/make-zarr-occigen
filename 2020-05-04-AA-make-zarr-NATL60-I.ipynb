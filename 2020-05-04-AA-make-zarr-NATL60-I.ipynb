{
 "cells": [
  {
   "cell_type": "code",
   "execution_count": 10,
   "metadata": {},
   "outputs": [],
   "source": [
    "import warnings\n",
    "warnings.filterwarnings(\"ignore\")\n",
    "import dask \n",
    "import numpy as np\n",
    "import xarray as xr\n",
    "import time\n",
    "import os \n",
    "import time \n",
    "import glob\n",
    "import numcodecs\n",
    "\n",
    "import zarr\n",
    "\n",
    "%matplotlib inline\n"
   ]
  },
  {
   "cell_type": "code",
   "execution_count": 11,
   "metadata": {},
   "outputs": [],
   "source": [
    "ds = xr.open_dataset('/store/molines/NATL60/NATL60-I/NATL60_v4.1_cdf_byte_mask.nc', chunks={'z':1})\n",
    "compressor = numcodecs.Blosc(cname='snappy', clevel=6, shuffle=-1)\n",
    "encoding = {vname: {'compressor': compressor} for vname in ds.variables}\n",
    "outdir = '/store/albert7a/eNATL60/zarr/NATL60-byte-mask'\n",
    "ds.to_zarr(outdir, encoding=encoding, mode=\"w\")\n"
   ]
  },
  {
   "cell_type": "code",
   "execution_count": 13,
   "metadata": {},
   "outputs": [],
   "source": [
    "ds = xr.open_dataset('/store/molines/NATL60/NATL60-I/NATL60_v4.1_cdf_mesh_hgr.nc')\n",
    "compressor = numcodecs.Blosc(cname='snappy', clevel=6, shuffle=-1)\n",
    "encoding = {vname: {'compressor': compressor} for vname in ds.variables}\n",
    "outdir = '/store/albert7a/eNATL60/zarr/NATL60-mesh-hgr'\n",
    "ds.to_zarr(outdir, encoding=encoding, mode=\"w\")\n"
   ]
  },
  {
   "cell_type": "code",
   "execution_count": 14,
   "metadata": {},
   "outputs": [
    {
     "data": {
      "text/plain": [
       "<xarray.backends.zarr.ZarrStore at 0x2b88673d6570>"
      ]
     },
     "execution_count": 14,
     "metadata": {},
     "output_type": "execute_result"
    }
   ],
   "source": [
    "ds = xr.open_dataset('/store/molines/NATL60/NATL60-I/NATL60_v4.1_cdf_mesh_zgr.nc', chunks={'z':1})\n",
    "compressor = numcodecs.Blosc(cname='snappy', clevel=6, shuffle=-1)\n",
    "encoding = {vname: {'compressor': compressor} for vname in ds.variables}\n",
    "outdir = '/store/albert7a/eNATL60/zarr/NATL60-mesh-zgr'\n",
    "ds.to_zarr(outdir, encoding=encoding, mode=\"w\")\n",
    "\n",
    " "
   ]
  },
  {
   "cell_type": "code",
   "execution_count": null,
   "metadata": {},
   "outputs": [],
   "source": []
  }
 ],
 "metadata": {
  "kernelspec": {
   "display_name": "Python 3",
   "language": "python",
   "name": "python3"
  },
  "language_info": {
   "codemirror_mode": {
    "name": "ipython",
    "version": 3
   },
   "file_extension": ".py",
   "mimetype": "text/x-python",
   "name": "python",
   "nbconvert_exporter": "python",
   "pygments_lexer": "ipython3",
   "version": "3.7.7"
  }
 },
 "nbformat": 4,
 "nbformat_minor": 2
}
