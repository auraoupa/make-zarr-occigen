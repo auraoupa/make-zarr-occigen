{
 "cells": [
  {
   "cell_type": "code",
   "execution_count": 1,
   "metadata": {},
   "outputs": [],
   "source": [
    "import warnings\n",
    "warnings.filterwarnings(\"ignore\")\n",
    "import dask \n",
    "import numpy as np\n",
    "import xarray as xr\n",
    "import time\n",
    "import os \n",
    "import time \n",
    "import glob\n",
    "import numcodecs\n",
    "\n",
    "import zarr\n",
    "\n",
    "%matplotlib inline\n"
   ]
  },
  {
   "cell_type": "code",
   "execution_count": 3,
   "metadata": {},
   "outputs": [],
   "source": [
    "ds = xr.open_mfdataset('/media/extra/DATA/dc_data/dc_ref/*.nc', concat_dim='time')\n"
   ]
  },
  {
   "cell_type": "code",
   "execution_count": 4,
   "metadata": {},
   "outputs": [
    {
     "data": {
      "text/plain": [
       "<xarray.Dataset>\n",
       "Dimensions:   (lat: 600, lon: 600, time: 8760)\n",
       "Coordinates:\n",
       "  * lon       (lon) float64 -64.98 -64.97 -64.95 -64.93 ... -55.03 -55.02 -55.0\n",
       "  * lat       (lat) float64 33.02 33.03 33.05 33.07 ... 42.95 42.97 42.98 43.0\n",
       "  * time      (time) datetime64[ns] 2012-10-01T00:30:00 ... 2013-09-30T23:30:00\n",
       "Data variables:\n",
       "    sossheig  (time, lat, lon) float32 dask.array<shape=(8760, 600, 600), chunksize=(24, 600, 600)>\n",
       "Attributes:\n",
       "    Info:     Horizontal grid read in regulargrid_NATL60.nc / Source field re...\n",
       "    About:    Created by SOSIE interpolation environement => https://github.c..."
      ]
     },
     "execution_count": 4,
     "metadata": {},
     "output_type": "execute_result"
    }
   ],
   "source": [
    "ds"
   ]
  },
  {
   "cell_type": "code",
   "execution_count": 5,
   "metadata": {},
   "outputs": [
    {
     "data": {
      "text/plain": [
       "<xarray.backends.zarr.ZarrStore at 0x7f09f6f3cac8>"
      ]
     },
     "execution_count": 5,
     "metadata": {},
     "output_type": "execute_result"
    }
   ],
   "source": [
    "ds = xr.open_mfdataset('/media/extra/DATA/dc_data/dc_ref/*.nc', concat_dim='time')\n",
    "compressor = numcodecs.Blosc(cname='snappy', clevel=6, shuffle=-1)\n",
    "encoding = {vname: {'compressor': compressor} for vname in ds.variables}\n",
    "outdir = '/media/extra/DATA/dc_data/zarr/dc_ref'\n",
    "ds.to_zarr(outdir, encoding=encoding, mode=\"w\")\n"
   ]
  },
  {
   "cell_type": "code",
   "execution_count": 7,
   "metadata": {},
   "outputs": [
    {
     "ename": "ValueError",
     "evalue": "Zarr requires uniform chunk sizes except for final chunk. Variable dask chunks ((174, 1, 174, 173, 174, 174, 61, 173, 148, 12, 141, 174, 70, 94, 174, 116, 170, 174, 37, 174, 174, 173, 174, 23, 173, 173, 100, 174, 110, 54, 174, 158, 29, 133, 173, 75, 174, 174, 1, 174, 173, 174, 174, 61, 173, 148, 12, 141, 174, 70, 94, 174, 116, 170, 174, 37, 174, 174, 173, 174, 23, 173, 173, 100, 174, 110, 54, 174, 158, 29, 133, 173, 75, 174, 174, 1, 174, 173, 174, 174, 61, 173, 148, 12, 141, 174, 70, 94, 174, 116, 170, 174, 37, 174, 174, 173, 174, 23, 173, 173, 100, 174, 110, 54, 174, 158, 29, 133, 173, 75, 174, 174, 1, 174, 173, 174, 174, 61, 173, 148, 12, 141, 174, 70, 94, 174, 116, 170, 174, 37, 174, 174, 173, 174, 23, 173, 173, 100, 174, 110, 54, 174, 158, 29, 133, 173, 75, 174, 174, 1, 174, 173, 174, 174, 61, 173, 148, 12, 141, 174, 70, 94, 174, 116, 170, 174, 37, 174, 174, 173, 174, 23, 173, 173, 100, 174, 110, 54, 174, 158, 29, 133, 173, 75, 174, 174, 1, 174, 173, 174, 174, 61, 173, 148, 12, 141, 174, 70, 94, 174, 116, 170, 174, 37, 174, 174, 173, 174, 23, 173, 173, 100, 174, 110, 54, 174, 158, 29, 133, 173, 75, 174, 174, 1, 174, 173, 174, 174, 61, 173, 148, 12, 141, 174, 70, 94, 174, 116, 170, 174, 37, 174, 174, 173, 174, 23, 173, 173, 100, 174, 110, 54, 174, 158, 29, 133, 173, 75, 174, 174, 1, 174, 173, 174, 174, 61, 173, 148, 12, 141, 174, 70, 94, 174, 116, 170, 174, 37, 174, 174, 173, 174, 23, 173, 173, 100, 174, 110, 54, 174, 158, 29, 133, 173, 75, 174, 174, 1, 174, 173, 174, 174, 61, 173, 148, 12, 141, 174, 70, 94, 174, 116, 170, 174, 37, 174, 174, 173, 174, 23, 173, 173, 100, 174, 110, 54, 174, 158, 29, 133, 173, 75, 174, 174, 1, 174, 173, 174, 174, 61, 173, 148, 12, 141, 174, 70, 94, 174, 116, 170, 174, 37, 174, 174, 173, 174, 23, 173, 173, 100, 174, 110, 54, 174, 158, 29, 133, 173, 75, 174, 174, 1, 174, 173, 174, 174, 61, 173, 148, 12, 141, 174, 70, 94, 174, 116, 170, 174, 37, 174, 174, 173, 174, 23, 173, 173, 100, 174, 110, 54, 174, 158, 29, 133, 173, 75, 174),) are incompatible. Consider rechunking using `chunk()`.",
     "output_type": "error",
     "traceback": [
      "\u001b[0;31m---------------------------------------------------------------------------\u001b[0m",
      "\u001b[0;31mValueError\u001b[0m                                Traceback (most recent call last)",
      "\u001b[0;32m<ipython-input-7-15584d99e725>\u001b[0m in \u001b[0;36m<module>\u001b[0;34m\u001b[0m\n\u001b[1;32m      3\u001b[0m \u001b[0mencoding\u001b[0m \u001b[0;34m=\u001b[0m \u001b[0;34m{\u001b[0m\u001b[0mvname\u001b[0m\u001b[0;34m:\u001b[0m \u001b[0;34m{\u001b[0m\u001b[0;34m'compressor'\u001b[0m\u001b[0;34m:\u001b[0m \u001b[0mcompressor\u001b[0m\u001b[0;34m}\u001b[0m \u001b[0;32mfor\u001b[0m \u001b[0mvname\u001b[0m \u001b[0;32min\u001b[0m \u001b[0mds\u001b[0m\u001b[0;34m.\u001b[0m\u001b[0mvariables\u001b[0m\u001b[0;34m}\u001b[0m\u001b[0;34m\u001b[0m\u001b[0;34m\u001b[0m\u001b[0m\n\u001b[1;32m      4\u001b[0m \u001b[0moutdir\u001b[0m \u001b[0;34m=\u001b[0m \u001b[0;34m'/media/extra/DATA/dc_data/zarr/dc_obs_en'\u001b[0m\u001b[0;34m\u001b[0m\u001b[0;34m\u001b[0m\u001b[0m\n\u001b[0;32m----> 5\u001b[0;31m \u001b[0mds\u001b[0m\u001b[0;34m.\u001b[0m\u001b[0mto_zarr\u001b[0m\u001b[0;34m(\u001b[0m\u001b[0moutdir\u001b[0m\u001b[0;34m,\u001b[0m \u001b[0mencoding\u001b[0m\u001b[0;34m=\u001b[0m\u001b[0mencoding\u001b[0m\u001b[0;34m,\u001b[0m \u001b[0mmode\u001b[0m\u001b[0;34m=\u001b[0m\u001b[0;34m\"w\"\u001b[0m\u001b[0;34m)\u001b[0m\u001b[0;34m\u001b[0m\u001b[0;34m\u001b[0m\u001b[0m\n\u001b[0m",
      "\u001b[0;32m~/anaconda2/envs/pangeo-cloud/lib/python3.6/site-packages/xarray/core/dataset.py\u001b[0m in \u001b[0;36mto_zarr\u001b[0;34m(self, store, mode, synchronizer, group, encoding, compute, consolidated)\u001b[0m\n\u001b[1;32m   1366\u001b[0m         return to_zarr(self, store=store, mode=mode, synchronizer=synchronizer,\n\u001b[1;32m   1367\u001b[0m                        \u001b[0mgroup\u001b[0m\u001b[0;34m=\u001b[0m\u001b[0mgroup\u001b[0m\u001b[0;34m,\u001b[0m \u001b[0mencoding\u001b[0m\u001b[0;34m=\u001b[0m\u001b[0mencoding\u001b[0m\u001b[0;34m,\u001b[0m \u001b[0mcompute\u001b[0m\u001b[0;34m=\u001b[0m\u001b[0mcompute\u001b[0m\u001b[0;34m,\u001b[0m\u001b[0;34m\u001b[0m\u001b[0;34m\u001b[0m\u001b[0m\n\u001b[0;32m-> 1368\u001b[0;31m                        consolidated=consolidated)\n\u001b[0m\u001b[1;32m   1369\u001b[0m \u001b[0;34m\u001b[0m\u001b[0m\n\u001b[1;32m   1370\u001b[0m     \u001b[0;32mdef\u001b[0m \u001b[0m__repr__\u001b[0m\u001b[0;34m(\u001b[0m\u001b[0mself\u001b[0m\u001b[0;34m)\u001b[0m\u001b[0;34m:\u001b[0m\u001b[0;34m\u001b[0m\u001b[0;34m\u001b[0m\u001b[0m\n",
      "\u001b[0;32m~/anaconda2/envs/pangeo-cloud/lib/python3.6/site-packages/xarray/backends/api.py\u001b[0m in \u001b[0;36mto_zarr\u001b[0;34m(dataset, store, mode, synchronizer, group, encoding, compute, consolidated)\u001b[0m\n\u001b[1;32m    974\u001b[0m     \u001b[0mwriter\u001b[0m \u001b[0;34m=\u001b[0m \u001b[0mArrayWriter\u001b[0m\u001b[0;34m(\u001b[0m\u001b[0;34m)\u001b[0m\u001b[0;34m\u001b[0m\u001b[0;34m\u001b[0m\u001b[0m\n\u001b[1;32m    975\u001b[0m     \u001b[0;31m# TODO: figure out how to properly handle unlimited_dims\u001b[0m\u001b[0;34m\u001b[0m\u001b[0;34m\u001b[0m\u001b[0;34m\u001b[0m\u001b[0m\n\u001b[0;32m--> 976\u001b[0;31m     \u001b[0mdump_to_store\u001b[0m\u001b[0;34m(\u001b[0m\u001b[0mdataset\u001b[0m\u001b[0;34m,\u001b[0m \u001b[0mzstore\u001b[0m\u001b[0;34m,\u001b[0m \u001b[0mwriter\u001b[0m\u001b[0;34m,\u001b[0m \u001b[0mencoding\u001b[0m\u001b[0;34m=\u001b[0m\u001b[0mencoding\u001b[0m\u001b[0;34m)\u001b[0m\u001b[0;34m\u001b[0m\u001b[0;34m\u001b[0m\u001b[0m\n\u001b[0m\u001b[1;32m    977\u001b[0m     \u001b[0mwrites\u001b[0m \u001b[0;34m=\u001b[0m \u001b[0mwriter\u001b[0m\u001b[0;34m.\u001b[0m\u001b[0msync\u001b[0m\u001b[0;34m(\u001b[0m\u001b[0mcompute\u001b[0m\u001b[0;34m=\u001b[0m\u001b[0mcompute\u001b[0m\u001b[0;34m)\u001b[0m\u001b[0;34m\u001b[0m\u001b[0;34m\u001b[0m\u001b[0m\n\u001b[1;32m    978\u001b[0m \u001b[0;34m\u001b[0m\u001b[0m\n",
      "\u001b[0;32m~/anaconda2/envs/pangeo-cloud/lib/python3.6/site-packages/xarray/backends/api.py\u001b[0m in \u001b[0;36mdump_to_store\u001b[0;34m(dataset, store, writer, encoder, encoding, unlimited_dims)\u001b[0m\n\u001b[1;32m    849\u001b[0m \u001b[0;34m\u001b[0m\u001b[0m\n\u001b[1;32m    850\u001b[0m     store.store(variables, attrs, check_encoding, writer,\n\u001b[0;32m--> 851\u001b[0;31m                 unlimited_dims=unlimited_dims)\n\u001b[0m\u001b[1;32m    852\u001b[0m \u001b[0;34m\u001b[0m\u001b[0m\n\u001b[1;32m    853\u001b[0m \u001b[0;34m\u001b[0m\u001b[0m\n",
      "\u001b[0;32m~/anaconda2/envs/pangeo-cloud/lib/python3.6/site-packages/xarray/backends/zarr.py\u001b[0m in \u001b[0;36mstore\u001b[0;34m(self, variables, attributes, *args, **kwargs)\u001b[0m\n\u001b[1;32m    342\u001b[0m     \u001b[0;32mdef\u001b[0m \u001b[0mstore\u001b[0m\u001b[0;34m(\u001b[0m\u001b[0mself\u001b[0m\u001b[0;34m,\u001b[0m \u001b[0mvariables\u001b[0m\u001b[0;34m,\u001b[0m \u001b[0mattributes\u001b[0m\u001b[0;34m,\u001b[0m \u001b[0;34m*\u001b[0m\u001b[0margs\u001b[0m\u001b[0;34m,\u001b[0m \u001b[0;34m**\u001b[0m\u001b[0mkwargs\u001b[0m\u001b[0;34m)\u001b[0m\u001b[0;34m:\u001b[0m\u001b[0;34m\u001b[0m\u001b[0;34m\u001b[0m\u001b[0m\n\u001b[1;32m    343\u001b[0m         AbstractWritableDataStore.store(self, variables, attributes,\n\u001b[0;32m--> 344\u001b[0;31m                                         *args, **kwargs)\n\u001b[0m\u001b[1;32m    345\u001b[0m \u001b[0;34m\u001b[0m\u001b[0m\n\u001b[1;32m    346\u001b[0m     \u001b[0;32mdef\u001b[0m \u001b[0msync\u001b[0m\u001b[0;34m(\u001b[0m\u001b[0mself\u001b[0m\u001b[0;34m)\u001b[0m\u001b[0;34m:\u001b[0m\u001b[0;34m\u001b[0m\u001b[0;34m\u001b[0m\u001b[0m\n",
      "\u001b[0;32m~/anaconda2/envs/pangeo-cloud/lib/python3.6/site-packages/xarray/backends/common.py\u001b[0m in \u001b[0;36mstore\u001b[0;34m(self, variables, attributes, check_encoding_set, writer, unlimited_dims)\u001b[0m\n\u001b[1;32m    263\u001b[0m         \u001b[0mself\u001b[0m\u001b[0;34m.\u001b[0m\u001b[0mset_dimensions\u001b[0m\u001b[0;34m(\u001b[0m\u001b[0mvariables\u001b[0m\u001b[0;34m,\u001b[0m \u001b[0munlimited_dims\u001b[0m\u001b[0;34m=\u001b[0m\u001b[0munlimited_dims\u001b[0m\u001b[0;34m)\u001b[0m\u001b[0;34m\u001b[0m\u001b[0;34m\u001b[0m\u001b[0m\n\u001b[1;32m    264\u001b[0m         self.set_variables(variables, check_encoding_set, writer,\n\u001b[0;32m--> 265\u001b[0;31m                            unlimited_dims=unlimited_dims)\n\u001b[0m\u001b[1;32m    266\u001b[0m \u001b[0;34m\u001b[0m\u001b[0m\n\u001b[1;32m    267\u001b[0m     \u001b[0;32mdef\u001b[0m \u001b[0mset_attributes\u001b[0m\u001b[0;34m(\u001b[0m\u001b[0mself\u001b[0m\u001b[0;34m,\u001b[0m \u001b[0mattributes\u001b[0m\u001b[0;34m)\u001b[0m\u001b[0;34m:\u001b[0m\u001b[0;34m\u001b[0m\u001b[0;34m\u001b[0m\u001b[0m\n",
      "\u001b[0;32m~/anaconda2/envs/pangeo-cloud/lib/python3.6/site-packages/xarray/backends/common.py\u001b[0m in \u001b[0;36mset_variables\u001b[0;34m(self, variables, check_encoding_set, writer, unlimited_dims)\u001b[0m\n\u001b[1;32m    301\u001b[0m             \u001b[0mcheck\u001b[0m \u001b[0;34m=\u001b[0m \u001b[0mvn\u001b[0m \u001b[0;32min\u001b[0m \u001b[0mcheck_encoding_set\u001b[0m\u001b[0;34m\u001b[0m\u001b[0;34m\u001b[0m\u001b[0m\n\u001b[1;32m    302\u001b[0m             target, source = self.prepare_variable(\n\u001b[0;32m--> 303\u001b[0;31m                 name, v, check, unlimited_dims=unlimited_dims)\n\u001b[0m\u001b[1;32m    304\u001b[0m \u001b[0;34m\u001b[0m\u001b[0m\n\u001b[1;32m    305\u001b[0m             \u001b[0mwriter\u001b[0m\u001b[0;34m.\u001b[0m\u001b[0madd\u001b[0m\u001b[0;34m(\u001b[0m\u001b[0msource\u001b[0m\u001b[0;34m,\u001b[0m \u001b[0mtarget\u001b[0m\u001b[0;34m)\u001b[0m\u001b[0;34m\u001b[0m\u001b[0;34m\u001b[0m\u001b[0m\n",
      "\u001b[0;32m~/anaconda2/envs/pangeo-cloud/lib/python3.6/site-packages/xarray/backends/zarr.py\u001b[0m in \u001b[0;36mprepare_variable\u001b[0;34m(self, name, variable, check_encoding, unlimited_dims)\u001b[0m\n\u001b[1;32m    326\u001b[0m \u001b[0;34m\u001b[0m\u001b[0m\n\u001b[1;32m    327\u001b[0m         encoding = _extract_zarr_variable_encoding(\n\u001b[0;32m--> 328\u001b[0;31m             variable, raise_on_invalid=check_encoding)\n\u001b[0m\u001b[1;32m    329\u001b[0m \u001b[0;34m\u001b[0m\u001b[0m\n\u001b[1;32m    330\u001b[0m         \u001b[0mencoded_attrs\u001b[0m \u001b[0;34m=\u001b[0m \u001b[0mOrderedDict\u001b[0m\u001b[0;34m(\u001b[0m\u001b[0;34m)\u001b[0m\u001b[0;34m\u001b[0m\u001b[0;34m\u001b[0m\u001b[0m\n",
      "\u001b[0;32m~/anaconda2/envs/pangeo-cloud/lib/python3.6/site-packages/xarray/backends/zarr.py\u001b[0m in \u001b[0;36m_extract_zarr_variable_encoding\u001b[0;34m(variable, raise_on_invalid)\u001b[0m\n\u001b[1;32m    179\u001b[0m \u001b[0;34m\u001b[0m\u001b[0m\n\u001b[1;32m    180\u001b[0m     chunks = _determine_zarr_chunks(encoding.get('chunks'), variable.chunks,\n\u001b[0;32m--> 181\u001b[0;31m                                     variable.ndim)\n\u001b[0m\u001b[1;32m    182\u001b[0m     \u001b[0mencoding\u001b[0m\u001b[0;34m[\u001b[0m\u001b[0;34m'chunks'\u001b[0m\u001b[0;34m]\u001b[0m \u001b[0;34m=\u001b[0m \u001b[0mchunks\u001b[0m\u001b[0;34m\u001b[0m\u001b[0;34m\u001b[0m\u001b[0m\n\u001b[1;32m    183\u001b[0m     \u001b[0;32mreturn\u001b[0m \u001b[0mencoding\u001b[0m\u001b[0;34m\u001b[0m\u001b[0;34m\u001b[0m\u001b[0m\n",
      "\u001b[0;32m~/anaconda2/envs/pangeo-cloud/lib/python3.6/site-packages/xarray/backends/zarr.py\u001b[0m in \u001b[0;36m_determine_zarr_chunks\u001b[0;34m(enc_chunks, var_chunks, ndim)\u001b[0m\n\u001b[1;32m     81\u001b[0m                 \u001b[0;34m\"Zarr requires uniform chunk sizes except for final chunk.\"\u001b[0m\u001b[0;34m\u001b[0m\u001b[0;34m\u001b[0m\u001b[0m\n\u001b[1;32m     82\u001b[0m                 \u001b[0;34m\" Variable dask chunks %r are incompatible. Consider \"\u001b[0m\u001b[0;34m\u001b[0m\u001b[0;34m\u001b[0m\u001b[0m\n\u001b[0;32m---> 83\u001b[0;31m                 \"rechunking using `chunk()`.\" % (var_chunks,))\n\u001b[0m\u001b[1;32m     84\u001b[0m         \u001b[0;32mif\u001b[0m \u001b[0many\u001b[0m\u001b[0;34m(\u001b[0m\u001b[0;34m(\u001b[0m\u001b[0mchunks\u001b[0m\u001b[0;34m[\u001b[0m\u001b[0;36m0\u001b[0m\u001b[0;34m]\u001b[0m \u001b[0;34m<\u001b[0m \u001b[0mchunks\u001b[0m\u001b[0;34m[\u001b[0m\u001b[0;34m-\u001b[0m\u001b[0;36m1\u001b[0m\u001b[0;34m]\u001b[0m\u001b[0;34m)\u001b[0m \u001b[0;32mfor\u001b[0m \u001b[0mchunks\u001b[0m \u001b[0;32min\u001b[0m \u001b[0mvar_chunks\u001b[0m\u001b[0;34m)\u001b[0m\u001b[0;34m:\u001b[0m\u001b[0;34m\u001b[0m\u001b[0;34m\u001b[0m\u001b[0m\n\u001b[1;32m     85\u001b[0m             raise ValueError(\n",
      "\u001b[0;31mValueError\u001b[0m: Zarr requires uniform chunk sizes except for final chunk. Variable dask chunks ((174, 1, 174, 173, 174, 174, 61, 173, 148, 12, 141, 174, 70, 94, 174, 116, 170, 174, 37, 174, 174, 173, 174, 23, 173, 173, 100, 174, 110, 54, 174, 158, 29, 133, 173, 75, 174, 174, 1, 174, 173, 174, 174, 61, 173, 148, 12, 141, 174, 70, 94, 174, 116, 170, 174, 37, 174, 174, 173, 174, 23, 173, 173, 100, 174, 110, 54, 174, 158, 29, 133, 173, 75, 174, 174, 1, 174, 173, 174, 174, 61, 173, 148, 12, 141, 174, 70, 94, 174, 116, 170, 174, 37, 174, 174, 173, 174, 23, 173, 173, 100, 174, 110, 54, 174, 158, 29, 133, 173, 75, 174, 174, 1, 174, 173, 174, 174, 61, 173, 148, 12, 141, 174, 70, 94, 174, 116, 170, 174, 37, 174, 174, 173, 174, 23, 173, 173, 100, 174, 110, 54, 174, 158, 29, 133, 173, 75, 174, 174, 1, 174, 173, 174, 174, 61, 173, 148, 12, 141, 174, 70, 94, 174, 116, 170, 174, 37, 174, 174, 173, 174, 23, 173, 173, 100, 174, 110, 54, 174, 158, 29, 133, 173, 75, 174, 174, 1, 174, 173, 174, 174, 61, 173, 148, 12, 141, 174, 70, 94, 174, 116, 170, 174, 37, 174, 174, 173, 174, 23, 173, 173, 100, 174, 110, 54, 174, 158, 29, 133, 173, 75, 174, 174, 1, 174, 173, 174, 174, 61, 173, 148, 12, 141, 174, 70, 94, 174, 116, 170, 174, 37, 174, 174, 173, 174, 23, 173, 173, 100, 174, 110, 54, 174, 158, 29, 133, 173, 75, 174, 174, 1, 174, 173, 174, 174, 61, 173, 148, 12, 141, 174, 70, 94, 174, 116, 170, 174, 37, 174, 174, 173, 174, 23, 173, 173, 100, 174, 110, 54, 174, 158, 29, 133, 173, 75, 174, 174, 1, 174, 173, 174, 174, 61, 173, 148, 12, 141, 174, 70, 94, 174, 116, 170, 174, 37, 174, 174, 173, 174, 23, 173, 173, 100, 174, 110, 54, 174, 158, 29, 133, 173, 75, 174, 174, 1, 174, 173, 174, 174, 61, 173, 148, 12, 141, 174, 70, 94, 174, 116, 170, 174, 37, 174, 174, 173, 174, 23, 173, 173, 100, 174, 110, 54, 174, 158, 29, 133, 173, 75, 174, 174, 1, 174, 173, 174, 174, 61, 173, 148, 12, 141, 174, 70, 94, 174, 116, 170, 174, 37, 174, 174, 173, 174, 23, 173, 173, 100, 174, 110, 54, 174, 158, 29, 133, 173, 75, 174),) are incompatible. Consider rechunking using `chunk()`."
     ]
    }
   ],
   "source": [
    "ds = xr.open_mfdataset('/media/extra/DATA/dc_data/dc_obs/en/*.nc', concat_dim='time')\n",
    "compressor = numcodecs.Blosc(cname='snappy', clevel=6, shuffle=-1)\n",
    "encoding = {vname: {'compressor': compressor} for vname in ds.variables}\n",
    "outdir = '/media/extra/DATA/dc_data/zarr/dc_obs_en'\n",
    "ds.to_zarr(outdir, encoding=encoding, mode=\"w\")\n"
   ]
  },
  {
   "cell_type": "code",
   "execution_count": null,
   "metadata": {},
   "outputs": [],
   "source": [
    "ds = xr.open_mfdataset('/media/extra/DATA/dc_data/dc_obs/en/*.nc', concat_dim='time')\n",
    "compressor = numcodecs.Blosc(cname='snappy', clevel=6, shuffle=-1)\n",
    "encoding = {vname: {'compressor': compressor} for vname in ds.variables}\n",
    "outdir = '/media/extra/DATA/dc_data/zarr/dc_obs_en'\n",
    "ds.to_zarr(outdir, encoding=encoding, mode=\"w\")\n"
   ]
  }
 ],
 "metadata": {
  "kernelspec": {
   "display_name": "pangeo_cloud",
   "language": "python",
   "name": "pangeo-cloud"
  },
  "language_info": {
   "codemirror_mode": {
    "name": "ipython",
    "version": 3
   },
   "file_extension": ".py",
   "mimetype": "text/x-python",
   "name": "python",
   "nbconvert_exporter": "python",
   "pygments_lexer": "ipython3",
   "version": "3.6.7"
  }
 },
 "nbformat": 4,
 "nbformat_minor": 2
}
